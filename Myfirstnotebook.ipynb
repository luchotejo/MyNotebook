{
 "cells": [
  {
   "cell_type": "markdown",
   "id": "b287c012-5928-4e13-8284-183863273249",
   "metadata": {},
   "source": [
    "# Data Science Exercise Notebook\n"
   ]
  },
  {
   "cell_type": "markdown",
   "id": "2375d8a4-9292-4a2b-842f-2ff23750866d",
   "metadata": {},
   "source": [
    "## Introduction\n",
    "This notebook demonstrates various exercises in data science using Python. It includes examples of arithmetic operations, language libraries, and data science tools.\n"
   ]
  },
  {
   "cell_type": "markdown",
   "id": "5c6ff678-5f60-4bf8-b719-27e4612cb3fa",
   "metadata": {},
   "source": [
    "## Data Science Languages\n",
    "The main programming languages used in data science are:\n",
    "1. Python\n",
    "2. R\n",
    "3. SQL\n",
    "4. Julia\n",
    "5. Scala\n"
   ]
  },
  {
   "cell_type": "markdown",
   "id": "3ea34c16-bfca-4621-a91b-c368032aa892",
   "metadata": {},
   "source": [
    "## Data Science Libraries\n",
    "Some commonly used data science libraries include:\n",
    "1. Pandas\n",
    "2. NumPy\n",
    "3. Matplotlib\n",
    "4. Scikit-learn\n",
    "5. TensorFlow\n"
   ]
  },
  {
   "cell_type": "markdown",
   "id": "822c8ac7-ca19-407c-ac1e-f815d8e47be7",
   "metadata": {},
   "source": [
    "## Data Science Tools\n",
    "| Tool        | Description                    |\n",
    "|-------------|--------------------------------|\n",
    "| Jupyter     | Notebook environment           |\n",
    "| RStudio     | IDE for R programming          |\n",
    "| Apache Spark| Distributed computing platform |\n",
    "| Tableau     | Data visualization tool        |\n"
   ]
  },
  {
   "cell_type": "markdown",
   "id": "91fc7a83-f8eb-4eed-9375-5012ce2ecbd1",
   "metadata": {},
   "source": [
    "## Examples of Arithmetic Expressions\n",
    "Arithmetic expressions are used to perform mathematical calculations, such as:\n",
    "- Addition: `5 + 3`\n",
    "- Subtraction: `8 - 2`\n",
    "- Multiplication: `4 * 7`\n",
    "- Division: `16 / 4`\n"
   ]
  },
  {
   "cell_type": "code",
   "execution_count": 5,
   "id": "73cfe817-2fcf-4d48-a4d4-290e62b9bd59",
   "metadata": {},
   "outputs": [
    {
     "data": {
      "text/plain": [
       "18"
      ]
     },
     "execution_count": 5,
     "metadata": {},
     "output_type": "execute_result"
    }
   ],
   "source": [
    "# Multiply and add two numbers\n",
    "x = 5\n",
    "y = 3\n",
    "result = x * y + y\n",
    "result\n"
   ]
  },
  {
   "cell_type": "code",
   "execution_count": 6,
   "id": "848c107b-d1bb-420a-b0a0-418ef3b89765",
   "metadata": {},
   "outputs": [
    {
     "data": {
      "text/plain": [
       "2.5"
      ]
     },
     "execution_count": 6,
     "metadata": {},
     "output_type": "execute_result"
    }
   ],
   "source": [
    "# Convert minutes to hours\n",
    "minutes = 150\n",
    "hours = minutes / 60\n",
    "hours\n"
   ]
  },
  {
   "cell_type": "code",
   "execution_count": 7,
   "id": "29a392a2-ab9c-44dd-a3e3-ee687082eb25",
   "metadata": {},
   "outputs": [
    {
     "name": "stdout",
     "output_type": "stream",
     "text": [
      "Understand data science tools\n",
      "Learn basic Python coding\n",
      "Explore data science libraries\n"
     ]
    }
   ],
   "source": [
    "# List goals or objectives\n",
    "objectives = [\"Understand data science tools\", \"Learn basic Python coding\", \"Explore data science libraries\"]\n",
    "for objective in objectives:\n",
    "    print(objective)\n"
   ]
  },
  {
   "cell_type": "markdown",
   "id": "ff83dcc5-c59e-4cc6-9800-fcddd11cfc61",
   "metadata": {},
   "source": [
    "## Author\n",
    "This notebook was created by Luis Tejeda Orellana.\n"
   ]
  },
  {
   "cell_type": "code",
   "execution_count": null,
   "id": "79a4a4cb-8b5d-4645-9484-11ff3d59ec2c",
   "metadata": {},
   "outputs": [],
   "source": []
  }
 ],
 "metadata": {
  "kernelspec": {
   "display_name": "Python 3 (ipykernel)",
   "language": "python",
   "name": "python3"
  },
  "language_info": {
   "codemirror_mode": {
    "name": "ipython",
    "version": 3
   },
   "file_extension": ".py",
   "mimetype": "text/x-python",
   "name": "python",
   "nbconvert_exporter": "python",
   "pygments_lexer": "ipython3",
   "version": "3.12.6"
  }
 },
 "nbformat": 4,
 "nbformat_minor": 5
}
